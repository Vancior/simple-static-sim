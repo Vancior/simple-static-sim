{
    "cells": [
        {
            "cell_type": "code",
            "execution_count": 6,
            "source": [
                "import execution_graph as eg\r\n",
                "import importlib\r\n",
                "import uuid\r\n",
                "importlib.reload(eg)\r\n",
                "v1 = eg.Vertex(str(uuid.uuid4()), {}, 1000, 10, int(1e8))\r\n",
                "v2 = eg.Vertex(str(uuid.uuid4()), {}, 1000, 10, int(1e8))\r\n",
                "g = eg.ExecutionGraph(uuid.uuid4())\r\n",
                "g.add_vertex(v1)\r\n",
                "g.add_vertex(v2)\r\n",
                "g.connect(v1, v2)\r\n",
                "for v in g.topological_order():\r\n",
                "    print(v.uuid, v.memory)"
            ],
            "outputs": [
                {
                    "output_type": "stream",
                    "name": "stdout",
                    "text": [
                        "713ff471-fd9a-48ce-a455-1fd0a30c2fa4 100000000\n",
                        "b1df6e5c-7805-4fda-8a70-7ff0a1388217 100000000\n"
                    ]
                }
            ],
            "metadata": {}
        },
        {
            "cell_type": "code",
            "execution_count": 7,
            "source": [
                "import topology as tg\r\n",
                "importlib.reload(tg)\r\n",
                "n1 = tg.Node(str(uuid.uuid4()), \"host\", 1000, int(1e9), 0, 0)\r\n",
                "n2 = tg.Node(str(uuid.uuid4()), \"host\", 1000, int(1e9), 0, 0)\r\n",
                "t = tg.Topology()\r\n",
                "t.add_node(n1)\r\n",
                "t.add_node(n2)\r\n",
                "t.connect(n1, n2, uuid.uuid4(), int(1e7), 10)"
            ],
            "outputs": [],
            "metadata": {}
        },
        {
            "cell_type": "code",
            "execution_count": 8,
            "source": [
                "import scheduler as sch\r\n",
                "importlib.reload(sch)\r\n",
                "random_scheduler = sch.RandomScheduler()\r\n",
                "result = random_scheduler.schedule(g, t)\r\n",
                "print(result)"
            ],
            "outputs": [
                {
                    "output_type": "stream",
                    "name": "stderr",
                    "text": [
                        "\u001b[32m2021-07-31 18:20:20\u001b[0m \u001b[35mVancior-Redmi\u001b[0m \u001b[34mRandomScheduler[21336]\u001b[0m \u001b[1;30mDEBUG\u001b[0m \u001b[32mSelect node 48744439-bc5d-4dba-8f2d-8ba38f665c40 for vertex 713ff471-fd9a-48ce-a455-1fd0a30c2fa4\u001b[0m\n",
                        "\u001b[32m2021-07-31 18:20:20\u001b[0m \u001b[35mVancior-Redmi\u001b[0m \u001b[34mRandomScheduler[21336]\u001b[0m \u001b[1;30mDEBUG\u001b[0m \u001b[32mSelect node 48744439-bc5d-4dba-8f2d-8ba38f665c40 for vertex b1df6e5c-7805-4fda-8a70-7ff0a1388217\u001b[0m\n"
                    ]
                },
                {
                    "output_type": "stream",
                    "name": "stdout",
                    "text": [
                        "{'713ff471-fd9a-48ce-a455-1fd0a30c2fa4': '48744439-bc5d-4dba-8f2d-8ba38f665c40', 'b1df6e5c-7805-4fda-8a70-7ff0a1388217': '48744439-bc5d-4dba-8f2d-8ba38f665c40'}\n"
                    ]
                }
            ],
            "metadata": {}
        },
        {
            "cell_type": "code",
            "execution_count": 9,
            "source": [
                "for v_from, v_to in g.get_edges():\r\n",
                "    t.occupy_link(result.get_scheduled_node(v_from), result.get_scheduled_node(v_to))\r\n",
                "print(t.g.edges)"
            ],
            "outputs": [
                {
                    "output_type": "stream",
                    "name": "stdout",
                    "text": [
                        "[('b26328ab-1192-4ff0-8d73-7cbf9c812b43', '48744439-bc5d-4dba-8f2d-8ba38f665c40')]\n"
                    ]
                }
            ],
            "metadata": {}
        },
        {
            "cell_type": "code",
            "execution_count": 10,
            "source": [
                "import latency\r\n",
                "importlib.reload(latency)\r\n",
                "latency_calculator = latency.LatencyCalculator(t)\r\n",
                "latency_calculator.add_scheduled_graph(g, result)\r\n",
                "print(latency_calculator.compute_latency())"
            ],
            "outputs": [
                {
                    "output_type": "stream",
                    "name": "stdout",
                    "text": [
                        "{UUID('7ea2ad2e-2007-44d3-b2a9-42d70ec422ae'): 0}\n"
                    ]
                }
            ],
            "metadata": {}
        }
    ],
    "metadata": {
        "orig_nbformat": 4,
        "language_info": {
            "name": "python",
            "version": "3.9.5",
            "mimetype": "text/x-python",
            "codemirror_mode": {
                "name": "ipython",
                "version": 3
            },
            "pygments_lexer": "ipython3",
            "nbconvert_exporter": "python",
            "file_extension": ".py"
        },
        "kernelspec": {
            "name": "python3",
            "display_name": "Python 3.9.5 64-bit"
        },
        "interpreter": {
            "hash": "add1a61ff37513b0d798fa9b3ddbf8ae573dfe73fde377561c8d981e86c7d8d4"
        }
    },
    "nbformat": 4,
    "nbformat_minor": 2
}