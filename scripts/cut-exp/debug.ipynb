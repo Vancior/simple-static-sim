{
 "cells": [
  {
   "cell_type": "code",
   "execution_count": null,
   "metadata": {},
   "outputs": [],
   "source": [
    "import sys\n",
    "sys.path.insert(0, '../../')"
   ]
  },
  {
   "cell_type": "code",
   "execution_count": null,
   "metadata": {},
   "outputs": [],
   "source": [
    "import bd_calc\n",
    "import graph\n",
    "import importlib\n",
    "import math\n",
    "import matplotlib\n",
    "import matplotlib.pyplot as plt\n",
    "import numpy as np\n",
    "import random\n",
    "import topo\n",
    "import typing\n",
    "import utils\n",
    "import yaml\n",
    "\n",
    "matplotlib.rc('font', family='Times New Roman', size=18)"
   ]
  },
  {
   "cell_type": "code",
   "execution_count": null,
   "metadata": {},
   "outputs": [],
   "source": [
    "import all_cloud_cut\n",
    "import best_cut\n",
    "import flow_cut\n",
    "import greedy_cut\n",
    "\n",
    "def unit_size_cb(r: int):\n",
    "    return 10000 * math.pow(10, random.randint(0, 1))"
   ]
  },
  {
   "cell_type": "code",
   "execution_count": null,
   "metadata": {},
   "outputs": [],
   "source": [
    "topo_file = \"../../samples/1e3h.yaml\"\n",
    "source_selector_dict = {'rasp1': 8, 'rasp2': 8, 'rasp3': 8}\n",
    "\n",
    "sc = topo.Scenario.from_dict(\n",
    "    yaml.load(open(topo_file, \"r\").read(), Loader=yaml.Loader)\n",
    ")\n",
    "while True:\n",
    "    source_selector = graph.SourceSelector(source_selector_dict)\n",
    "    gen_args ={\n",
    "            \"total_rank\": random.randint(3, 7),\n",
    "            \"max_node_per_rank\": random.randint(1, 2),\n",
    "            \"max_predecessors\": random.randint(1, 2),\n",
    "            \"mi_cb\": lambda: 1,\n",
    "            \"memory_cb\": lambda: int(2e8),\n",
    "            \"unit_size_cb\": unit_size_cb,\n",
    "            \"unit_rate_cb\": lambda: random.randint(10, 20),\n",
    "            \"source_hosts\": source_selector,\n",
    "            \"sink_hosts\": [\"cloud1\"],\n",
    "        }\n",
    "    g = graph.GraphGenerator(\"g-debug\", **gen_args).gen_dag_graph()\n",
    "    greedy2_result = greedy_cut.greedy_cut2(sc, [g])[0]\n",
    "    greedy2_bd = bd_calc.bd_calc(g, greedy2_result[0], greedy2_result[1])\n",
    "    all_cloud_result = all_cloud_cut.all_cloud_cut(sc, [g])[0]\n",
    "    all_cloud_bd = bd_calc.bd_calc(g, all_cloud_result[0], all_cloud_result[1])\n",
    "    if greedy2_bd > all_cloud_bd:\n",
    "        for u, v, d in g.get_edges():\n",
    "            print('{} -- {} --> {}'.format(u, int(d['unit_size']*d['per_second']/1e3), v))\n",
    "        print(greedy2_bd / 1e3)\n",
    "        print(all_cloud_bd / 1e3)\n",
    "        print(greedy2_result)\n",
    "        print(all_cloud_result)\n",
    "        break"
   ]
  }
 ],
 "metadata": {
  "interpreter": {
   "hash": "43d59183209fbb529fb955d20e56d6e78345fbb583b396cdff9bd3ffeb890291"
  },
  "kernelspec": {
   "display_name": "Python 3.10.0 64-bit ('sim': conda)",
   "language": "python",
   "name": "python3"
  },
  "language_info": {
   "codemirror_mode": {
    "name": "ipython",
    "version": 3
   },
   "file_extension": ".py",
   "mimetype": "text/x-python",
   "name": "python",
   "nbconvert_exporter": "python",
   "pygments_lexer": "ipython3",
   "version": "3.10.0"
  },
  "orig_nbformat": 4
 },
 "nbformat": 4,
 "nbformat_minor": 2
}
