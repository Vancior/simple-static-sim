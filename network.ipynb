{
 "cells": [
  {
   "cell_type": "code",
   "execution_count": 1,
   "source": [
    "import topology as tg\r\n",
    "import importlib\r\n",
    "import uuid\r\n",
    "importlib.reload(tg)\r\n",
    "n1 = tg.Node(str(uuid.uuid4()), \"host\", 1000, int(1e9), 0, 0)\r\n",
    "n2 = tg.Node(str(uuid.uuid4()), \"host\", 1000, int(1e9), 0, 0)\r\n",
    "t = tg.Topology()\r\n",
    "t.add_node(n1)\r\n",
    "t.add_node(n2)\r\n",
    "t.connect(n1, n2, uuid.uuid4(), int(1e7), 10)"
   ],
   "outputs": [],
   "metadata": {}
  },
  {
   "cell_type": "code",
   "execution_count": 30,
   "source": [
    "import vivaldi.compute as vivaldi_compute\r\n",
    "import vivaldi.coordinate as vivaldi_coordinate\r\n",
    "importlib.reload(vivaldi_compute)\r\n",
    "importlib.reload(vivaldi_coordinate)\r\n",
    "lat_matrix = vivaldi_compute.get_latency_matrix(t)\r\n",
    "print(lat_matrix)\r\n",
    "coordinate_2d_class = vivaldi_coordinate.create_coordinate_class(2)\r\n",
    "node_list = [n1, n2]\r\n",
    "matrix_error = vivaldi_compute.matrix_error(lat_matrix, {n.uuid: coordinate_2d_class(0,0) for n in node_list})\r\n",
    "print(matrix_error)"
   ],
   "outputs": [
    {
     "output_type": "stream",
     "name": "stdout",
     "text": [
      "{'4d05276e-2946-474b-bce0-bdb83ce682c3': {'4d05276e-2946-474b-bce0-bdb83ce682c3': 0, '77acd811-aaa5-48e6-94bf-981e0e59eb4d': 10}, '77acd811-aaa5-48e6-94bf-981e0e59eb4d': {'4d05276e-2946-474b-bce0-bdb83ce682c3': 10, '77acd811-aaa5-48e6-94bf-981e0e59eb4d': 0}}\n",
      "100.0\n"
     ]
    }
   ],
   "metadata": {}
  },
  {
   "cell_type": "code",
   "execution_count": 32,
   "source": [
    "updated = vivaldi_compute.vivaldi_compute(t, {n.uuid: coordinate_2d_class(0,0) for n in node_list}, 1, 20)\r\n",
    "for k, v in updated.items():\r\n",
    "    print(k, v)"
   ],
   "outputs": [
    {
     "output_type": "stream",
     "name": "stderr",
     "text": [
      "\u001b[32m2021-08-01 22:18:10\u001b[0m \u001b[35mVancior-Redmi\u001b[0m \u001b[34mvivaldi.compute[30708]\u001b[0m \u001b[1;30mDEBUG\u001b[0m \u001b[32minitial error: 100.0\u001b[0m\n",
      "\u001b[32m2021-08-01 22:18:10\u001b[0m \u001b[35mVancior-Redmi\u001b[0m \u001b[34mvivaldi.compute[30708]\u001b[0m \u001b[1;30mDEBUG\u001b[0m \u001b[32miteration #0 error: 65.61\u001b[0m\n",
      "\u001b[32m2021-08-01 22:18:10\u001b[0m \u001b[35mVancior-Redmi\u001b[0m \u001b[34mvivaldi.compute[30708]\u001b[0m \u001b[1;30mDEBUG\u001b[0m \u001b[32miteration #1 error: 43.046721\u001b[0m\n",
      "\u001b[32m2021-08-01 22:18:10\u001b[0m \u001b[35mVancior-Redmi\u001b[0m \u001b[34mvivaldi.compute[30708]\u001b[0m \u001b[1;30mDEBUG\u001b[0m \u001b[32miteration #2 error: 28.242953648099995\u001b[0m\n",
      "\u001b[32m2021-08-01 22:18:10\u001b[0m \u001b[35mVancior-Redmi\u001b[0m \u001b[34mvivaldi.compute[30708]\u001b[0m \u001b[1;30mDEBUG\u001b[0m \u001b[32miteration #3 error: 18.530201888518413\u001b[0m\n",
      "\u001b[32m2021-08-01 22:18:10\u001b[0m \u001b[35mVancior-Redmi\u001b[0m \u001b[34mvivaldi.compute[30708]\u001b[0m \u001b[1;30mDEBUG\u001b[0m \u001b[32miteration #4 error: 12.157665459056926\u001b[0m\n",
      "\u001b[32m2021-08-01 22:18:10\u001b[0m \u001b[35mVancior-Redmi\u001b[0m \u001b[34mvivaldi.compute[30708]\u001b[0m \u001b[1;30mDEBUG\u001b[0m \u001b[32miteration #5 error: 7.976644307687252\u001b[0m\n",
      "\u001b[32m2021-08-01 22:18:10\u001b[0m \u001b[35mVancior-Redmi\u001b[0m \u001b[34mvivaldi.compute[30708]\u001b[0m \u001b[1;30mDEBUG\u001b[0m \u001b[32miteration #6 error: 5.233476330273604\u001b[0m\n",
      "\u001b[32m2021-08-01 22:18:10\u001b[0m \u001b[35mVancior-Redmi\u001b[0m \u001b[34mvivaldi.compute[30708]\u001b[0m \u001b[1;30mDEBUG\u001b[0m \u001b[32miteration #7 error: 3.433683820292508\u001b[0m\n",
      "\u001b[32m2021-08-01 22:18:10\u001b[0m \u001b[35mVancior-Redmi\u001b[0m \u001b[34mvivaldi.compute[30708]\u001b[0m \u001b[1;30mDEBUG\u001b[0m \u001b[32miteration #8 error: 2.252839954493914\u001b[0m\n",
      "\u001b[32m2021-08-01 22:18:10\u001b[0m \u001b[35mVancior-Redmi\u001b[0m \u001b[34mvivaldi.compute[30708]\u001b[0m \u001b[1;30mDEBUG\u001b[0m \u001b[32miteration #9 error: 1.4780882941434628\u001b[0m\n",
      "\u001b[32m2021-08-01 22:18:10\u001b[0m \u001b[35mVancior-Redmi\u001b[0m \u001b[34mvivaldi.compute[30708]\u001b[0m \u001b[1;30mDEBUG\u001b[0m \u001b[32miteration #10 error: 0.9697737297875224\u001b[0m\n"
     ]
    },
    {
     "output_type": "stream",
     "name": "stdout",
     "text": [
      "4d05276e-2946-474b-bce0-bdb83ce682c3 (4.70117855310172,-0.6423333613229387)\n",
      "77acd811-aaa5-48e6-94bf-981e0e59eb4d (-4.231060697791547,0.5781000251906449)\n"
     ]
    }
   ],
   "metadata": {}
  }
 ],
 "metadata": {
  "orig_nbformat": 4,
  "language_info": {
   "name": "python",
   "version": "3.9.5",
   "mimetype": "text/x-python",
   "codemirror_mode": {
    "name": "ipython",
    "version": 3
   },
   "pygments_lexer": "ipython3",
   "nbconvert_exporter": "python",
   "file_extension": ".py"
  },
  "kernelspec": {
   "name": "python3",
   "display_name": "Python 3.9.5 64-bit"
  },
  "interpreter": {
   "hash": "add1a61ff37513b0d798fa9b3ddbf8ae573dfe73fde377561c8d981e86c7d8d4"
  }
 },
 "nbformat": 4,
 "nbformat_minor": 2
}