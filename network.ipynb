{
 "cells": [
  {
   "cell_type": "code",
   "execution_count": 95,
   "source": [
    "import topology as tg\r\n",
    "import importlib\r\n",
    "import uuid\r\n",
    "importlib.reload(tg)\r\n",
    "node_list = [\r\n",
    "tg.Node(str(uuid.uuid4()), \"host\", 1000, int(1e9), 0, 0),\r\n",
    "tg.Node(str(uuid.uuid4()), \"host\", 1000, int(1e9), 0, 0),\r\n",
    "tg.Node(str(uuid.uuid4()), \"host\", 1000, int(1e9), 0, 0),\r\n",
    "tg.Node(str(uuid.uuid4()), \"host\", 1000, int(1e9), 0, 0),\r\n",
    "tg.Node(str(uuid.uuid4()), \"host\", 1000, int(1e9), 0, 0),\r\n",
    "tg.Node(str(uuid.uuid4()), \"host\", 1000, int(1e9), 0, 0)\r\n",
    "]\r\n",
    "t = tg.Topology()\r\n",
    "for n in node_list:\r\n",
    "    t.add_node(n)\r\n",
    "t.connect(node_list[0], node_list[1], uuid.uuid4(), int(1e7), 10)\r\n",
    "t.connect(node_list[1], node_list[2], uuid.uuid4(), int(1e7), 2)\r\n",
    "t.connect(node_list[1], node_list[3], uuid.uuid4(), int(1e7), 2)\r\n",
    "t.connect(node_list[1], node_list[4], uuid.uuid4(), int(1e7), 2)\r\n",
    "t.connect(node_list[4], node_list[5], uuid.uuid4(), int(1e7), 1)"
   ],
   "outputs": [],
   "metadata": {}
  },
  {
   "cell_type": "code",
   "execution_count": 96,
   "source": [
    "import vivaldi.compute as vivaldi_compute\r\n",
    "import vivaldi.coordinate as vivaldi_coordinate\r\n",
    "importlib.reload(vivaldi_compute)\r\n",
    "importlib.reload(vivaldi_coordinate)\r\n",
    "lat_matrix = vivaldi_compute.get_latency_matrix(t)\r\n",
    "print(lat_matrix)\r\n",
    "coordinate_2d_class = vivaldi_coordinate.create_coordinate_class(2)\r\n",
    "matrix_error = vivaldi_compute.matrix_error(lat_matrix, {n.uuid: coordinate_2d_class(0,0) for n in node_list})\r\n",
    "print(matrix_error)"
   ],
   "outputs": [
    {
     "output_type": "stream",
     "name": "stdout",
     "text": [
      "{'c93b619f-d1ba-460c-8e6e-33f79a047a39': {'c93b619f-d1ba-460c-8e6e-33f79a047a39': 0, '49b91655-a881-4446-b686-5214ec7c20d1': 10, 'f967689b-d74d-44ac-ad48-6cfec6be3efa': 12, '1b221369-ba6a-4cbe-bc13-7568346b6363': 12, '404c434c-6762-46d2-adf3-d49a5eaf65b9': 12, 'd10ba703-c71b-477a-a7d7-036511652be0': 13}, '49b91655-a881-4446-b686-5214ec7c20d1': {'c93b619f-d1ba-460c-8e6e-33f79a047a39': 10, '49b91655-a881-4446-b686-5214ec7c20d1': 0, 'f967689b-d74d-44ac-ad48-6cfec6be3efa': 2, '1b221369-ba6a-4cbe-bc13-7568346b6363': 2, '404c434c-6762-46d2-adf3-d49a5eaf65b9': 2, 'd10ba703-c71b-477a-a7d7-036511652be0': 3}, 'f967689b-d74d-44ac-ad48-6cfec6be3efa': {'c93b619f-d1ba-460c-8e6e-33f79a047a39': 12, '49b91655-a881-4446-b686-5214ec7c20d1': 2, 'f967689b-d74d-44ac-ad48-6cfec6be3efa': 0, '1b221369-ba6a-4cbe-bc13-7568346b6363': 4, '404c434c-6762-46d2-adf3-d49a5eaf65b9': 4, 'd10ba703-c71b-477a-a7d7-036511652be0': 5}, '1b221369-ba6a-4cbe-bc13-7568346b6363': {'c93b619f-d1ba-460c-8e6e-33f79a047a39': 12, '49b91655-a881-4446-b686-5214ec7c20d1': 2, 'f967689b-d74d-44ac-ad48-6cfec6be3efa': 4, '1b221369-ba6a-4cbe-bc13-7568346b6363': 0, '404c434c-6762-46d2-adf3-d49a5eaf65b9': 4, 'd10ba703-c71b-477a-a7d7-036511652be0': 5}, '404c434c-6762-46d2-adf3-d49a5eaf65b9': {'c93b619f-d1ba-460c-8e6e-33f79a047a39': 12, '49b91655-a881-4446-b686-5214ec7c20d1': 2, 'f967689b-d74d-44ac-ad48-6cfec6be3efa': 4, '1b221369-ba6a-4cbe-bc13-7568346b6363': 4, '404c434c-6762-46d2-adf3-d49a5eaf65b9': 0, 'd10ba703-c71b-477a-a7d7-036511652be0': 1}, 'd10ba703-c71b-477a-a7d7-036511652be0': {'c93b619f-d1ba-460c-8e6e-33f79a047a39': 13, '49b91655-a881-4446-b686-5214ec7c20d1': 3, 'f967689b-d74d-44ac-ad48-6cfec6be3efa': 5, '1b221369-ba6a-4cbe-bc13-7568346b6363': 5, '404c434c-6762-46d2-adf3-d49a5eaf65b9': 1, 'd10ba703-c71b-477a-a7d7-036511652be0': 0}}\n",
      "821.0\n"
     ]
    }
   ],
   "metadata": {}
  },
  {
   "cell_type": "code",
   "execution_count": 97,
   "source": [
    "updated = vivaldi_compute.vivaldi_compute(t, {n.uuid: coordinate_2d_class(0,0) for n in node_list}, 1, 1000)\r\n",
    "for k, v in updated.items():\r\n",
    "    print(k, v)"
   ],
   "outputs": [
    {
     "output_type": "stream",
     "name": "stderr",
     "text": [
      "\u001b[32m2021-08-01 22:57:15\u001b[0m \u001b[35mVancior-Redmi\u001b[0m \u001b[34mvivaldi.compute[30708]\u001b[0m \u001b[1;30mDEBUG\u001b[0m \u001b[32minitial error: 136.83333333333334\u001b[0m\n",
      "\u001b[32m2021-08-01 22:57:15\u001b[0m \u001b[35mVancior-Redmi\u001b[0m \u001b[34mvivaldi.compute[30708]\u001b[0m \u001b[1;30mDEBUG\u001b[0m \u001b[32miteration #0 error: 90.62196459586274\u001b[0m\n",
      "\u001b[32m2021-08-01 22:57:15\u001b[0m \u001b[35mVancior-Redmi\u001b[0m \u001b[34mvivaldi.compute[30708]\u001b[0m \u001b[1;30mDEBUG\u001b[0m \u001b[32miteration #100 error: 1.131370345577414\u001b[0m\n",
      "\u001b[32m2021-08-01 22:57:15\u001b[0m \u001b[35mVancior-Redmi\u001b[0m \u001b[34mvivaldi.compute[30708]\u001b[0m \u001b[1;30mDEBUG\u001b[0m \u001b[32miteration #200 error: 1.1287319820990167\u001b[0m\n",
      "\u001b[32m2021-08-01 22:57:15\u001b[0m \u001b[35mVancior-Redmi\u001b[0m \u001b[34mvivaldi.compute[30708]\u001b[0m \u001b[1;30mDEBUG\u001b[0m \u001b[32miteration #300 error: 1.1287317856547627\u001b[0m\n",
      "\u001b[32m2021-08-01 22:57:15\u001b[0m \u001b[35mVancior-Redmi\u001b[0m \u001b[34mvivaldi.compute[30708]\u001b[0m \u001b[1;30mDEBUG\u001b[0m \u001b[32miteration #400 error: 1.1287317856377557\u001b[0m\n",
      "\u001b[32m2021-08-01 22:57:15\u001b[0m \u001b[35mVancior-Redmi\u001b[0m \u001b[34mvivaldi.compute[30708]\u001b[0m \u001b[1;30mDEBUG\u001b[0m \u001b[32miteration #500 error: 1.1287317856377548\u001b[0m\n",
      "\u001b[32m2021-08-01 22:57:15\u001b[0m \u001b[35mVancior-Redmi\u001b[0m \u001b[34mvivaldi.compute[30708]\u001b[0m \u001b[1;30mDEBUG\u001b[0m \u001b[32miteration #600 error: 1.1287317856377541\u001b[0m\n",
      "\u001b[32m2021-08-01 22:57:15\u001b[0m \u001b[35mVancior-Redmi\u001b[0m \u001b[34mvivaldi.compute[30708]\u001b[0m \u001b[1;30mDEBUG\u001b[0m \u001b[32miteration #700 error: 1.1287317856377534\u001b[0m\n",
      "\u001b[32m2021-08-01 22:57:15\u001b[0m \u001b[35mVancior-Redmi\u001b[0m \u001b[34mvivaldi.compute[30708]\u001b[0m \u001b[1;30mDEBUG\u001b[0m \u001b[32miteration #800 error: 1.1287317856377548\u001b[0m\n",
      "\u001b[32m2021-08-01 22:57:15\u001b[0m \u001b[35mVancior-Redmi\u001b[0m \u001b[34mvivaldi.compute[30708]\u001b[0m \u001b[1;30mDEBUG\u001b[0m \u001b[32miteration #900 error: 1.1287317856377548\u001b[0m\n"
     ]
    },
    {
     "output_type": "stream",
     "name": "stdout",
     "text": [
      "c93b619f-d1ba-460c-8e6e-33f79a047a39 (4.40338845718802,8.805243071474527)\n",
      "49b91655-a881-4446-b686-5214ec7c20d1 (-0.07519276171689421,-0.9723936516337673)\n",
      "f967689b-d74d-44ac-ad48-6cfec6be3efa (1.9110918041761757,-1.6433725103906651)\n",
      "1b221369-ba6a-4cbe-bc13-7568346b6363 (0.28691258929542884,-3.600332794812718)\n",
      "404c434c-6762-46d2-adf3-d49a5eaf65b9 (-2.27057650933993,-0.9341950805142369)\n",
      "d10ba703-c71b-477a-a7d7-036511652be0 (-3.3719533278400706,-1.1028352755734767)\n"
     ]
    }
   ],
   "metadata": {}
  },
  {
   "cell_type": "code",
   "execution_count": 98,
   "source": [
    "import matplotlib.pyplot as plt\r\n",
    "%matplotlib inline\r\n",
    "\r\n",
    "fig = plt.figure()\r\n",
    "ax = fig.add_subplot(111)\r\n",
    "ax.set_aspect(1)\r\n",
    "plt.scatter(*zip(*updated.values()))\r\n",
    "plt.grid(True)\r\n",
    "plt.show()"
   ],
   "outputs": [
    {
     "output_type": "display_data",
     "data": {
      "text/plain": [
       "<Figure size 432x288 with 1 Axes>"
      ],
      "image/png": "[encoded data removed]"
     },
     "metadata": {
      "needs_background": "light"
     }
    }
   ],
   "metadata": {}
  },
  {
   "cell_type": "code",
   "execution_count": 99,
   "source": [
    "import numpy as np\r\n",
    "coords = list(updated.values())\r\n",
    "matrix = np.zeros((len(coords), len(coords)))\r\n",
    "for i in range(len(coords)):\r\n",
    "    for j in range(len(coords)):\r\n",
    "        matrix[i][j] = abs(coords[i] - coords[j])\r\n",
    "print(matrix)"
   ],
   "outputs": [
    {
     "output_type": "stream",
     "name": "stdout",
     "text": [
      "[[ 0.         10.75452787 10.74174614 13.07071865 11.80671266 12.59467969]\n",
      " [10.75452787  0.          2.09655408  2.6527692   2.19571604  3.29934012]\n",
      " [10.74174614  2.09655408  0.          2.54315782  4.24137743  5.3106258 ]\n",
      " [13.07071865  2.6527692   2.54315782  0.          3.69446083  4.429988  ]\n",
      " [11.80671266  2.19571604  4.24137743  3.69446083  0.          1.11421291]\n",
      " [12.59467969  3.29934012  5.3106258   4.429988    1.11421291  0.        ]]\n"
     ]
    }
   ],
   "metadata": {}
  },
  {
   "cell_type": "code",
   "execution_count": null,
   "source": [],
   "outputs": [],
   "metadata": {}
  }
 ],
 "metadata": {
  "orig_nbformat": 4,
  "language_info": {
   "name": "python",
   "version": "3.9.5",
   "mimetype": "text/x-python",
   "codemirror_mode": {
    "name": "ipython",
    "version": 3
   },
   "pygments_lexer": "ipython3",
   "nbconvert_exporter": "python",
   "file_extension": ".py"
  },
  "kernelspec": {
   "name": "python3",
   "display_name": "Python 3.9.5 64-bit"
  },
  "interpreter": {
   "hash": "add1a61ff37513b0d798fa9b3ddbf8ae573dfe73fde377561c8d981e86c7d8d4"
  }
 },
 "nbformat": 4,
 "nbformat_minor": 2
}