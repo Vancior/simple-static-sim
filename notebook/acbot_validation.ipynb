{
 "cells": [
  {
   "cell_type": "code",
   "execution_count": 1,
   "metadata": {},
   "outputs": [],
   "source": [
    "import sys\n",
    "sys.path.insert(0, '../')"
   ]
  },
  {
   "cell_type": "code",
   "execution_count": 2,
   "metadata": {},
   "outputs": [],
   "source": [
    "import graph\n",
    "import importlib\n",
    "import math\n",
    "import matplotlib\n",
    "import matplotlib.pyplot as plt\n",
    "import numpy as np\n",
    "import random\n",
    "import schedule as sch\n",
    "import topo\n",
    "import typing\n",
    "import utils\n",
    "import yaml"
   ]
  },
  {
   "cell_type": "code",
   "execution_count": 3,
   "metadata": {},
   "outputs": [],
   "source": [
    "with open(\"../cases/acbot_validation_1.yaml\") as f:\n",
    "    graph_list = graph.ExecutionGraph.load_all(f)\n",
    "topo_file = \"../samples/acbot_validation.yaml\"\n",
    "sc = topo.Scenario.from_dict(yaml.load(open(topo_file, \"r\").read(), Loader=yaml.Loader))"
   ]
  },
  {
   "cell_type": "code",
   "execution_count": 4,
   "metadata": {},
   "outputs": [
    {
     "name": "stdout",
     "output_type": "stream",
     "text": [
      "4000\n",
      "2\n",
      "2\n",
      "2\n",
      "6\n",
      "0\n",
      "2\n",
      "1\n",
      "2\n",
      "2\n",
      "3999\n",
      "4000\n",
      "3996\n",
      "{'f1-v2': 'vm2', 'f1-v1': 'vm1', 'f1-v5': 'cloud1', 'f1-v4': 'cloud1', 'f1-v6': 'cloud1', 'f1-v3': 'cloud1'}\n",
      "{'f2-v2': 'vm3', 'f2-v3': 'vm3', 'f2-v1': 'vm1', 'f2-v4': 'vm2', 'f2-v5': 'cloud1'}\n"
     ]
    }
   ],
   "source": [
    "scheduler = sch.FlowScheduler(sc)\n",
    "result = scheduler.schedule_multiple(graph_list)\n",
    "for r in result:\n",
    "    print(r)"
   ]
  },
  {
   "cell_type": "code",
   "execution_count": 6,
   "metadata": {},
   "outputs": [
    {
     "name": "stdout",
     "output_type": "stream",
     "text": [
      "4000\n",
      "2\n",
      "2\n",
      "2\n",
      "1\n",
      "2\n",
      "2\n",
      "2\n",
      "2\n",
      "3999\n",
      "4000\n",
      "{'f1-v2': 'vm1', 'f1-v5': 'vm3', 'f1-v1': 'vm1', 'f1-v4': 'vm2', 'f1-v3': 'vm2', 'f1-v6': 'cloud1'}\n"
     ]
    }
   ],
   "source": [
    "sc.topo.clear_occupied()\n",
    "scheduler = sch.FlowScheduler(sc)\n",
    "for r in scheduler.schedule_multiple([graph_list[0]]):\n",
    "    print(r)"
   ]
  }
 ],
 "metadata": {
  "interpreter": {
   "hash": "43d59183209fbb529fb955d20e56d6e78345fbb583b396cdff9bd3ffeb890291"
  },
  "kernelspec": {
   "display_name": "Python 3.10.0 64-bit ('sim': conda)",
   "language": "python",
   "name": "python3"
  },
  "language_info": {
   "codemirror_mode": {
    "name": "ipython",
    "version": 3
   },
   "file_extension": ".py",
   "mimetype": "text/x-python",
   "name": "python",
   "nbconvert_exporter": "python",
   "pygments_lexer": "ipython3",
   "version": "3.10.0"
  },
  "orig_nbformat": 4
 },
 "nbformat": 4,
 "nbformat_minor": 2
}
