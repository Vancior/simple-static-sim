{
 "cells": [
  {
   "cell_type": "code",
   "execution_count": 1,
   "metadata": {},
   "outputs": [],
   "source": [
    "import sys\n",
    "sys.path.insert(0, \"../\")"
   ]
  },
  {
   "cell_type": "code",
   "execution_count": 2,
   "metadata": {},
   "outputs": [],
   "source": [
    "import graph\n",
    "import importlib\n",
    "import math\n",
    "import matplotlib\n",
    "import matplotlib.pyplot as plt\n",
    "import numpy as np\n",
    "import random\n",
    "import schedule as sch\n",
    "import time\n",
    "import topo\n",
    "import typing\n",
    "import utils\n",
    "import vivaldi\n",
    "import yaml"
   ]
  },
  {
   "cell_type": "code",
   "execution_count": 3,
   "metadata": {},
   "outputs": [],
   "source": [
    "topo_file = \"../samples/1e3h.yaml\"\n",
    "sc = topo.Scenario.from_dict(yaml.load(open(topo_file, \"r\").read(), Loader=yaml.Loader))"
   ]
  },
  {
   "cell_type": "code",
   "execution_count": 4,
   "metadata": {},
   "outputs": [
    {
     "name": "stderr",
     "output_type": "stream",
     "text": [
      "2021-11-22 23:06:01 Vancior-Redmi vivaldi.compute[951] DEBUG initial error: 68.813\n"
     ]
    }
   ],
   "source": [
    "Coord3D = vivaldi.create_coordinate_class(3)\n",
    "coords = dict()\n",
    "for n in sc.topo.get_hosts():\n",
    "    coords[n.uuid] = Coord3D.random_unit_vector()\n",
    "coords_result = vivaldi.vivaldi_compute(sc.topo, coords, 0.1, 3000)"
   ]
  },
  {
   "cell_type": "code",
   "execution_count": 5,
   "metadata": {},
   "outputs": [
    {
     "name": "stdout",
     "output_type": "stream",
     "text": [
      "cloud1 (-7.053095203354364,-4.415008187251474,-16.768368096042785)\n",
      "rasp1 (3.1655331600950714,2.1883574893059192,4.357026340112555)\n",
      "rasp2 (1.515260894953106,1.455626102430396,5.691384881146762)\n",
      "rasp3 (3.1561212893820425,0.5898296700396481,5.315991818785334)\n"
     ]
    }
   ],
   "source": [
    "for k, c in coords_result.items():\n",
    "    print(k, c)\n",
    "rasp1 = coords_result['rasp1']\n",
    "rasp2 = coords_result['rasp2']\n",
    "rasp3 = coords_result['rasp3']\n",
    "# vm1 = coords_result['vm1']\n",
    "# vm2 = coords_result['vm2']\n",
    "# print(abs(rasp1-rasp2))\n",
    "# print(abs(rasp1-rasp3))\n",
    "# print(abs(rasp1-vm1))\n",
    "# print(abs(vm1-vm2))"
   ]
  },
  {
   "cell_type": "code",
   "execution_count": 6,
   "metadata": {},
   "outputs": [
    {
     "name": "stdout",
     "output_type": "stream",
     "text": [
      "10\n"
     ]
    }
   ],
   "source": [
    "with open(\"../cases/dag1.yaml\") as f:\n",
    "    graph_list: typing.List[graph.ExecutionGraph] = graph.ExecutionGraph.load_all(f)\n",
    "print(len(graph_list))"
   ]
  },
  {
   "cell_type": "code",
   "execution_count": 7,
   "metadata": {},
   "outputs": [],
   "source": [
    "def get_graph_domain(g: graph.ExecutionGraph) -> topo.Domain:\n",
    "    domain_set = set()\n",
    "    for s in g.get_sources():\n",
    "        for d in sc.get_edge_domains():\n",
    "            if d.find_host(s.domain_constraint[\"host\"]) is not None:\n",
    "                domain_set.add(d.name)\n",
    "    assert len(domain_set) == 1\n",
    "    return sc.find_domain(list(domain_set)[0])"
   ]
  },
  {
   "cell_type": "code",
   "execution_count": 17,
   "metadata": {},
   "outputs": [],
   "source": [
    "sc.topo.clear_occupied()\n",
    "result_list = [sch.SchedulingResult() for _ in graph_list]\n",
    "op_pick_list = dict()\n",
    "for g, r in zip(graph_list, result_list):\n",
    "    op_coords = {v.uuid: Coord3D.random_unit_vector() for v in g.get_vertices()}\n",
    "    movable = dict()\n",
    "    for v in g.get_vertices():\n",
    "        movable[v.uuid] = len(v.domain_constraint) == 0\n",
    "        if not movable[v.uuid]:\n",
    "            op_coords[v.uuid] = coords_result[v.domain_constraint['host']]\n",
    "    op_result = vivaldi.constrained_balance(g, op_coords, movable, 0.001, 2000)\n",
    "    edge_domain = get_graph_domain(g)\n",
    "    cloud_domain = sc.get_cloud_domains()[0]\n",
    "    for v in g.get_sources():\n",
    "        host = edge_domain.find_host(v.domain_constraint['host'])\n",
    "        assert host is not None\n",
    "        r.assign(host.node.uuid, v.uuid)\n",
    "        host.node.occupy(1)\n",
    "    for v in g.get_sinks():\n",
    "        host = cloud_domain.find_host(v.domain_constraint['host'])\n",
    "        assert host is not None\n",
    "        r.assign(host.node.uuid, v.uuid)\n",
    "        host.node.occupy(1)\n",
    "    for v in g.get_operators():\n",
    "        op_pick_list[v.uuid] = op_result[v.uuid]"
   ]
  },
  {
   "cell_type": "code",
   "execution_count": 9,
   "metadata": {},
   "outputs": [
    {
     "name": "stdout",
     "output_type": "stream",
     "text": [
      "99\n",
      "55\n"
     ]
    }
   ],
   "source": [
    "print(sum([g.number_of_vertices() for g in graph_list]))\n",
    "print(len(op_pick_list))"
   ]
  },
  {
   "cell_type": "code",
   "execution_count": 10,
   "metadata": {},
   "outputs": [],
   "source": [
    "class PickItem:\n",
    "    def __init__(self, coord):\n",
    "        self.coord = coord\n",
    "        self.min_dist = None\n",
    "\n",
    "op_pick_list = {k: PickItem(v) for k, v in op_pick_list.items()}"
   ]
  },
  {
   "cell_type": "code",
   "execution_count": 11,
   "metadata": {},
   "outputs": [],
   "source": [
    "big_result = sch.SchedulingResult()\n",
    "\n",
    "while True:\n",
    "    while True:\n",
    "        updated = False\n",
    "        for domain in sc.get_edge_domains() + sc.get_cloud_domains():\n",
    "            for host in domain.topo.get_hosts():\n",
    "                if host.slots <= host.occupied or len(op_pick_list) == 0:\n",
    "                    continue\n",
    "                self_coord = coords_result[host.uuid]\n",
    "                min_dist = 1e10\n",
    "                min_op = None\n",
    "                for op_id, op_item in op_pick_list.items():\n",
    "                    dist = abs(op_item.coord - self_coord)\n",
    "                    if dist < min_dist:\n",
    "                        min_dist = dist\n",
    "                        min_op = op_id\n",
    "                    if op_item.min_dist is None or dist < op_item.min_dist:\n",
    "                        op_item.min_dist = dist\n",
    "                assert min_dist < 1e10 and min_op is not None\n",
    "                big_result.assign(host.uuid, min_op)\n",
    "                host.occupy(1)\n",
    "                op_pick_list.pop(min_op)\n",
    "                updated = True\n",
    "        if not updated:\n",
    "            break\n",
    "    if len(op_pick_list) == 0:\n",
    "        break\n",
    "    for _, op_item in op_pick_list:\n",
    "        op_item.min_dist = None\n"
   ]
  },
  {
   "cell_type": "code",
   "execution_count": 12,
   "metadata": {},
   "outputs": [],
   "source": [
    "for idx, g in enumerate(graph_list):\n",
    "    result_list[idx] = sch.SchedulingResult.merge(result_list[idx], big_result.extract(set([v.uuid for v in g.get_operators()])))"
   ]
  },
  {
   "cell_type": "code",
   "execution_count": 13,
   "metadata": {},
   "outputs": [
    {
     "name": "stdout",
     "output_type": "stream",
     "text": [
      "{'g0-v0': 'rasp1', 'g0-v5': 'cloud1', 'g0-v7': 'cloud1', 'g0-v8': 'cloud1', 'g0-v1': 'rasp1', 'g0-v2': 'cloud1', 'g0-v3': 'cloud1', 'g0-v6': 'cloud1', 'g0-v4': 'cloud1'}\n",
      "{'g1-v0': 'rasp1', 'g1-v7': 'cloud1', 'g1-v4': 'cloud1', 'g1-v5': 'cloud1', 'g1-v1': 'rasp1', 'g1-v3': 'rasp2', 'g1-v6': 'cloud1', 'g1-v2': 'rasp1'}\n",
      "{'g2-v0': 'rasp3', 'g2-v2': 'cloud1', 'g2-v5': 'cloud1', 'g2-v8': 'cloud1', 'g2-v9': 'cloud1', 'g2-v6': 'cloud1', 'g2-v1': 'cloud1', 'g2-v4': 'cloud1', 'g2-v7': 'cloud1', 'g2-v3': 'rasp2'}\n",
      "{'g3-v0': 'rasp1', 'g3-v10': 'cloud1', 'g3-v11': 'cloud1', 'g3-v2': 'cloud1', 'g3-v9': 'cloud1', 'g3-v8': 'cloud1', 'g3-v4': 'cloud1', 'g3-v7': 'cloud1', 'g3-v1': 'rasp2', 'g3-v6': 'cloud1', 'g3-v3': 'rasp1', 'g3-v5': 'cloud1'}\n",
      "{'g4-v0': 'rasp3', 'g4-v3': 'cloud1', 'g4-v7': 'cloud1', 'g4-v8': 'cloud1', 'g4-v9': 'cloud1', 'g4-v1': 'cloud1', 'g4-v2': 'cloud1', 'g4-v6': 'cloud1', 'g4-v4': 'cloud1', 'g4-v5': 'cloud1'}\n",
      "{'g5-v0': 'rasp1', 'g5-v10': 'cloud1', 'g5-v6': 'cloud1', 'g5-v8': 'cloud1', 'g5-v9': 'cloud1', 'g5-v4': 'cloud1', 'g5-v2': 'rasp3', 'g5-v1': 'rasp3', 'g5-v3': 'cloud1', 'g5-v5': 'cloud1', 'g5-v7': 'cloud1'}\n",
      "{'g6-v0': 'rasp3', 'g6-v3': 'cloud1', 'g6-v6': 'cloud1', 'g6-v8': 'cloud1', 'g6-v9': 'cloud1', 'g6-v2': 'cloud1', 'g6-v7': 'cloud1', 'g6-v1': 'cloud1', 'g6-v5': 'cloud1', 'g6-v4': 'cloud1'}\n",
      "{'g7-v0': 'rasp2', 'g7-v5': 'cloud1', 'g7-v6': 'cloud1', 'g7-v8': 'cloud1', 'g7-v3': 'rasp2', 'g7-v2': 'rasp2', 'g7-v1': 'rasp2', 'g7-v4': 'cloud1', 'g7-v7': 'cloud1'}\n",
      "{'g8-v0': 'rasp3', 'g8-v4': 'cloud1', 'g8-v8': 'cloud1', 'g8-v9': 'cloud1', 'g8-v1': 'cloud1', 'g8-v7': 'cloud1', 'g8-v2': 'cloud1', 'g8-v3': 'rasp2', 'g8-v6': 'cloud1', 'g8-v5': 'rasp3'}\n",
      "{'g9-v0': 'rasp3', 'g9-v4': 'cloud1', 'g9-v6': 'cloud1', 'g9-v8': 'cloud1', 'g9-v9': 'cloud1', 'g9-v1': 'cloud1', 'g9-v5': 'cloud1', 'g9-v7': 'cloud1', 'g9-v3': 'cloud1', 'g9-v2': 'cloud1'}\n"
     ]
    }
   ],
   "source": [
    "for r in result_list:\n",
    "    print(r.assign_map)"
   ]
  },
  {
   "cell_type": "code",
   "execution_count": 14,
   "metadata": {},
   "outputs": [
    {
     "name": "stdout",
     "output_type": "stream",
     "text": [
      "{'g0': 37.35632183908046, 'g1': 39.16685205784204, 'g2': 41.40911330049261, 'g3': 36.275238095238095, 'g4': 36.0, 'g5': 40.325073313782994, 'g6': 39.857549857549856, 'g7': 36.359060846560844, 'g8': 35.34615384615385, 'g9': 34.0}\n",
      "{'g0': 0.0, 'g1': 0.0, 'g2': 0.0, 'g3': 0.0, 'g4': 0.0, 'g5': 0.0, 'g6': 0.0, 'g7': 0.0, 'g8': 0.0, 'g9': 0.0}\n"
     ]
    }
   ],
   "source": [
    "calculator = sch.LatencyCalculator(sc.topo)\n",
    "for g, r in zip(graph_list, result_list):\n",
    "    calculator.add_scheduled_graph(g, r)\n",
    "lat, bp = calculator.compute_latency()\n",
    "print(lat)\n",
    "print(bp)"
   ]
  },
  {
   "cell_type": "code",
   "execution_count": 15,
   "metadata": {},
   "outputs": [
    {
     "name": "stdout",
     "output_type": "stream",
     "text": [
      "g0-v0\n",
      "cloud1 24.378414508982583\n",
      "rasp1 0.0\n",
      "rasp2 2.2451740579385504\n",
      "rasp3 1.8641337295281717\n",
      "g0-v1\n",
      "cloud1 19.19784575055655\n",
      "rasp1 5.180568770233503\n",
      "rasp2 5.88512773417958\n",
      "rasp3 5.864762058752839\n",
      "g0-v2\n",
      "cloud1 15.072024844314136\n",
      "rasp1 9.306389697316748\n",
      "rasp2 9.828513306693903\n",
      "rasp3 9.870000959452021\n",
      "g0-v3\n",
      "cloud1 9.169843951328478\n",
      "rasp1 15.208570592893013\n",
      "rasp2 15.63433156304683\n",
      "rasp3 15.70860525368117\n",
      "g0-v4\n",
      "cloud1 16.148307898879985\n",
      "rasp1 8.230106652572461\n",
      "rasp2 8.783646603847348\n",
      "rasp3 8.814424581782086\n",
      "g0-v5\n",
      "cloud1 0.0\n",
      "rasp1 24.378414508982583\n",
      "rasp2 24.745132389764375\n",
      "rasp3 24.839393233752762\n",
      "g0-v6\n",
      "cloud1 7.138599835502594\n",
      "rasp1 17.23981471381755\n",
      "rasp2 17.647208279236104\n",
      "rasp3 17.7277066461338\n",
      "g0-v7\n",
      "cloud1 0.0\n",
      "rasp1 24.378414508982583\n",
      "rasp2 24.745132389764375\n",
      "rasp3 24.839393233752762\n",
      "g0-v8\n",
      "cloud1 0.0\n",
      "rasp1 24.378414508982583\n",
      "rasp2 24.745132389764375\n",
      "rasp3 24.839393233752762\n"
     ]
    }
   ],
   "source": [
    "g = graph_list[0]\n",
    "op_coords = {v.uuid: Coord3D.random_unit_vector() for v in g.get_vertices()}\n",
    "movable = dict()\n",
    "for v in g.get_vertices():\n",
    "    movable[v.uuid] = len(v.domain_constraint) == 0\n",
    "    if not movable[v.uuid]:\n",
    "        op_coords[v.uuid] = coords_result[v.domain_constraint['host']]\n",
    "op_result = vivaldi.constrained_balance(g, op_coords, movable, 0.001, 2000)\n",
    "for v in g.get_vertices():\n",
    "    print(v.uuid)\n",
    "    for host in sc.topo.get_hosts():\n",
    "        print(host.uuid, abs(op_result[v.uuid] - coords_result[host.uuid]))"
   ]
  },
  {
   "cell_type": "code",
   "execution_count": 16,
   "metadata": {},
   "outputs": [
    {
     "name": "stdout",
     "output_type": "stream",
     "text": [
      "{'g0': 38.241379310344826, 'g1': 34.454444332086155, 'g2': 37.52339901477833, 'g3': 35.905952380952385, 'g4': 37.17283950617284, 'g5': 35.538514173998045, 'g6': 37.35765160765161, 'g7': 35.276344797178126, 'g8': 39.0, 'g9': 33.0}\n",
      "{'g0': 0.0, 'g1': 0.0, 'g2': 0.0, 'g3': 0.0, 'g4': 0.0, 'g5': 0.0, 'g6': 0.0, 'g7': 0.0, 'g8': 0.0, 'g9': 0.0}\n"
     ]
    }
   ],
   "source": [
    "sc.topo.clear_occupied()\n",
    "flow_calculator = sch.LatencyCalculator(sc.topo)\n",
    "flow_scheduler = sch.FlowScheduler(sc)\n",
    "flow_result_list = flow_scheduler.schedule_multiple(graph_list)\n",
    "for g, r in zip(graph_list, flow_result_list):\n",
    "    assert r is not None\n",
    "    flow_calculator.add_scheduled_graph(g, r)\n",
    "lat, bp = flow_calculator.compute_latency()\n",
    "print(lat)\n",
    "print(bp)"
   ]
  }
 ],
 "metadata": {
  "interpreter": {
   "hash": "43d59183209fbb529fb955d20e56d6e78345fbb583b396cdff9bd3ffeb890291"
  },
  "kernelspec": {
   "display_name": "Python 3.10.0 64-bit ('sim': conda)",
   "language": "python",
   "name": "python3"
  },
  "language_info": {
   "codemirror_mode": {
    "name": "ipython",
    "version": 3
   },
   "file_extension": ".py",
   "mimetype": "text/x-python",
   "name": "python",
   "nbconvert_exporter": "python",
   "pygments_lexer": "ipython3",
   "version": "3.10.0"
  },
  "orig_nbformat": 4
 },
 "nbformat": 4,
 "nbformat_minor": 2
}
