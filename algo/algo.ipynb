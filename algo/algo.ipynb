{
 "cells": [
  {
   "cell_type": "code",
   "execution_count": 2,
   "source": [
    "import sys\r\n",
    "sys.path.insert(0, \"..\")"
   ],
   "outputs": [],
   "metadata": {}
  },
  {
   "cell_type": "code",
   "execution_count": 9,
   "source": [
    "import graph\r\n",
    "import importlib\r\n",
    "importlib.reload(graph)\r\n",
    "import uuid\r\n",
    "v1 = graph.Vertex(str(uuid.uuid4()), {}, 1000, 10, 10, int(1e8))\r\n",
    "v21 = graph.Vertex(str(uuid.uuid4()), {}, 1000, 10, 10, int(1e8))\r\n",
    "v22 = graph.Vertex(str(uuid.uuid4()), {}, 1000, 10, 10, int(1e8))\r\n",
    "v3 = graph.Vertex(str(uuid.uuid4()), {}, 0, 0, 10, int(1e8))\r\n",
    "g = graph.ExecutionGraph(str(uuid.uuid4()))\r\n",
    "g.add_vertex(v1)\r\n",
    "g.add_vertex(v21)\r\n",
    "g.add_vertex(v22)\r\n",
    "g.add_vertex(v3)\r\n",
    "g.connect(v1, v21, 1000)\r\n",
    "g.connect(v1, v22, 100)\r\n",
    "g.connect(v21, v3, 50)\r\n",
    "g.connect(v22, v3, 500)"
   ],
   "outputs": [],
   "metadata": {}
  },
  {
   "cell_type": "code",
   "execution_count": 10,
   "source": [
    "print(g.get_vertexs())\r\n",
    "print(g.get_edges())\r\n",
    "print(g.get_sources())\r\n",
    "print(g.get_sinks())\r\n",
    "print(g.get_edge(*g.get_edges()[0]))\r\n",
    "v_from, v_to = g.get_edges()[0]\r\n",
    "print(g.g.edges[v_from, v_to])"
   ],
   "outputs": [
    {
     "output_type": "stream",
     "name": "stdout",
     "text": [
      "[Vertex(uuid='817af302-ae30-43af-ac28-0480ded8cd73', domain_constraint={}, out_unit_size=1000, out_unit_rate=10, mi=10, memory=100000000), Vertex(uuid='3cff1e49-d64a-499a-a21d-90da569167a8', domain_constraint={}, out_unit_size=1000, out_unit_rate=10, mi=10, memory=100000000), Vertex(uuid='441f6fa8-3020-4012-b8f7-068df1e826ce', domain_constraint={}, out_unit_size=1000, out_unit_rate=10, mi=10, memory=100000000), Vertex(uuid='cec63da0-6681-48cb-b0ae-baef6e3d5d59', domain_constraint={}, out_unit_size=0, out_unit_rate=0, mi=10, memory=100000000)]\n",
      "[('817af302-ae30-43af-ac28-0480ded8cd73', '3cff1e49-d64a-499a-a21d-90da569167a8'), ('817af302-ae30-43af-ac28-0480ded8cd73', '441f6fa8-3020-4012-b8f7-068df1e826ce'), ('3cff1e49-d64a-499a-a21d-90da569167a8', 'cec63da0-6681-48cb-b0ae-baef6e3d5d59'), ('441f6fa8-3020-4012-b8f7-068df1e826ce', 'cec63da0-6681-48cb-b0ae-baef6e3d5d59')]\n",
      "[Vertex(uuid='817af302-ae30-43af-ac28-0480ded8cd73', domain_constraint={}, out_unit_size=1000, out_unit_rate=10, mi=10, memory=100000000)]\n",
      "[Vertex(uuid='cec63da0-6681-48cb-b0ae-baef6e3d5d59', domain_constraint={}, out_unit_size=0, out_unit_rate=0, mi=10, memory=100000000)]\n",
      "{'bd': 1000}\n",
      "{'bd': 1000}\n"
     ]
    }
   ],
   "metadata": {}
  },
  {
   "cell_type": "code",
   "execution_count": 11,
   "source": [
    "import min_cut\r\n",
    "importlib.reload(min_cut)"
   ],
   "outputs": [
    {
     "output_type": "execute_result",
     "data": {
      "text/plain": [
       "<module 'min_cut' from 'd:\\\\Graduate2\\\\repo\\\\simple-sim\\\\algo\\\\min_cut.py'>"
      ]
     },
     "metadata": {},
     "execution_count": 11
    }
   ],
   "metadata": {}
  },
  {
   "cell_type": "code",
   "execution_count": 12,
   "source": [
    "s_cut, t_cut = min_cut.min_cut(g)\r\n",
    "print(s_cut, t_cut)"
   ],
   "outputs": [
    {
     "output_type": "stream",
     "name": "stdout",
     "text": [
      "{'817af302-ae30-43af-ac28-0480ded8cd73', '3cff1e49-d64a-499a-a21d-90da569167a8'} {'441f6fa8-3020-4012-b8f7-068df1e826ce', 'cec63da0-6681-48cb-b0ae-baef6e3d5d59'}\n"
     ]
    }
   ],
   "metadata": {}
  },
  {
   "cell_type": "code",
   "execution_count": null,
   "source": [],
   "outputs": [],
   "metadata": {}
  }
 ],
 "metadata": {
  "orig_nbformat": 4,
  "language_info": {
   "name": "python",
   "version": "3.9.5",
   "mimetype": "text/x-python",
   "codemirror_mode": {
    "name": "ipython",
    "version": 3
   },
   "pygments_lexer": "ipython3",
   "nbconvert_exporter": "python",
   "file_extension": ".py"
  },
  "kernelspec": {
   "name": "python3",
   "display_name": "Python 3.9.5 64-bit"
  },
  "interpreter": {
   "hash": "add1a61ff37513b0d798fa9b3ddbf8ae573dfe73fde377561c8d981e86c7d8d4"
  }
 },
 "nbformat": 4,
 "nbformat_minor": 2
}